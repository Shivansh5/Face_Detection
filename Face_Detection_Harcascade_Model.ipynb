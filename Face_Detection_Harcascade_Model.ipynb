{
 "cells": [
  {
   "cell_type": "code",
   "execution_count": null,
   "id": "8f1ad30c",
   "metadata": {},
   "outputs": [],
   "source": [
    "import cv2"
   ]
  },
  {
   "cell_type": "code",
   "execution_count": null,
   "id": "6e5cc9f3",
   "metadata": {},
   "outputs": [],
   "source": [
    "photo = cv2.imread(\"shivansh.jpg\")"
   ]
  },
  {
   "cell_type": "code",
   "execution_count": null,
   "id": "8b0bad32",
   "metadata": {},
   "outputs": [],
   "source": [
    "cv2.imshow(\"Shivansh\",photo)\n",
    "cv2.waitKey()\n",
    "cv2.destroyAllWindows()"
   ]
  },
  {
   "cell_type": "code",
   "execution_count": null,
   "id": "42720138",
   "metadata": {},
   "outputs": [],
   "source": [
    "photo.shape"
   ]
  },
  {
   "cell_type": "code",
   "execution_count": null,
   "id": "2acc8ae6",
   "metadata": {},
   "outputs": [],
   "source": [
    "rphoto = cv2.rectangle(photo, (150,50) , (400,370),[0,255,0],5)"
   ]
  },
  {
   "cell_type": "code",
   "execution_count": null,
   "id": "9f3bf505",
   "metadata": {},
   "outputs": [],
   "source": [
    "cv2.imshow(\"Shivansh\",rphoto)\n",
    "cv2.waitKey()\n",
    "cv2.destroyAllWindows()"
   ]
  },
  {
   "cell_type": "markdown",
   "id": "1528044b",
   "metadata": {},
   "source": [
    "# Face detection with the help of precreatred model ----> Haarcascade Model"
   ]
  },
  {
   "cell_type": "code",
   "execution_count": null,
   "id": "d55c4cc2",
   "metadata": {},
   "outputs": [],
   "source": [
    "# To load the model \n",
    "\n",
    "model = cv2.CascadeClassifier(\"haarcascade_frontalface_default.xml\")"
   ]
  },
  {
   "cell_type": "code",
   "execution_count": null,
   "id": "a2e7b280",
   "metadata": {},
   "outputs": [],
   "source": [
    "# This model has a capabilites to detect the faces\n",
    "\n",
    "model"
   ]
  },
  {
   "cell_type": "code",
   "execution_count": null,
   "id": "b3b194f7",
   "metadata": {},
   "outputs": [],
   "source": [
    "# This function has a capabilites find cordinate of the faces \n",
    "\n",
    "faces = model.detectMultiScale(photo)"
   ]
  },
  {
   "cell_type": "code",
   "execution_count": null,
   "id": "3a49e577",
   "metadata": {},
   "outputs": [],
   "source": [
    "# Means one face is inside this image\n",
    "\n",
    "len(faces)"
   ]
  },
  {
   "cell_type": "code",
   "execution_count": null,
   "id": "4d7ff3ba",
   "metadata": {},
   "outputs": [],
   "source": [
    "faces"
   ]
  },
  {
   "cell_type": "code",
   "execution_count": null,
   "id": "ac0a433b",
   "metadata": {},
   "outputs": [],
   "source": [
    "# aphoto = cv2.rectangle(photo,(143,108), (143+232,108+232),[0,255,0],5)"
   ]
  },
  {
   "cell_type": "code",
   "execution_count": null,
   "id": "71e95f17",
   "metadata": {},
   "outputs": [],
   "source": [
    "x1 = faces[0][0]\n",
    "y1 = faces[0][1]\n",
    "x2 = x1 + faces[0][2]\n",
    "y2 = y1 + faces[0][3]"
   ]
  },
  {
   "cell_type": "code",
   "execution_count": null,
   "id": "bca4f016",
   "metadata": {},
   "outputs": [],
   "source": [
    "aphoto = cv2.rectangle(photo,(x1,y1), (x2,y2),[0,255,0],5)"
   ]
  },
  {
   "cell_type": "code",
   "execution_count": null,
   "id": "e55b7ec3",
   "metadata": {},
   "outputs": [],
   "source": [
    "cv2.imshow(\"Shivansh\",aphoto)\n",
    "cv2.waitKey()\n",
    "cv2.destroyAllWindows()"
   ]
  },
  {
   "cell_type": "markdown",
   "id": "152ecef6",
   "metadata": {},
   "source": [
    "# Real time Faces  Detection "
   ]
  },
  {
   "cell_type": "code",
   "execution_count": 2,
   "id": "25869527",
   "metadata": {},
   "outputs": [],
   "source": [
    "import cv2\n",
    "model = cv2.CascadeClassifier(\"haarcascade_frontalface_default.xml\")"
   ]
  },
  {
   "cell_type": "code",
   "execution_count": 3,
   "id": "2692a5ea",
   "metadata": {},
   "outputs": [],
   "source": [
    "cap = cv2.VideoCapture(0)"
   ]
  },
  {
   "cell_type": "code",
   "execution_count": 6,
   "id": "60593c57",
   "metadata": {},
   "outputs": [],
   "source": [
    "while True:\n",
    "    status , photo = cap.read()\n",
    "    faces = model.detectMultiScale(photo)\n",
    "    if len(faces) == 0:\n",
    "        pass\n",
    "    else:\n",
    "        x1 = faces[0][0]\n",
    "        y1 = faces[0][1]\n",
    "        x2 = x1 + faces[0][2]\n",
    "        y2 = y1 + faces[0][3]\n",
    "    \n",
    "        aphoto = cv2.rectangle(photo,(x1,y1), (x2,y2),[0,255,0],5)\n",
    "        cv2.imshow(\"Shivansh\",aphoto)\n",
    "        if (cv2.waitKey(50)) == 13:\n",
    "            break\n",
    "cv2.destroyAllWindows()"
   ]
  },
  {
   "cell_type": "code",
   "execution_count": 7,
   "id": "c6cd68d0",
   "metadata": {},
   "outputs": [],
   "source": [
    "cap.release()"
   ]
  },
  {
   "cell_type": "markdown",
   "id": "2b656cc5",
   "metadata": {},
   "source": [
    "# Facing problem while ceating this project is , whenever my model doesn't detect any faces it give an error tuple index out of range..."
   ]
  },
  {
   "cell_type": "code",
   "execution_count": null,
   "id": "878f0749",
   "metadata": {},
   "outputs": [],
   "source": []
  },
  {
   "cell_type": "code",
   "execution_count": null,
   "id": "b4898f91",
   "metadata": {},
   "outputs": [],
   "source": [
    "import numpy as np"
   ]
  },
  {
   "cell_type": "code",
   "execution_count": null,
   "id": "8d3c0968",
   "metadata": {},
   "outputs": [],
   "source": [
    "s  = np.array([[1,2,3,4,5]])"
   ]
  },
  {
   "cell_type": "code",
   "execution_count": null,
   "id": "0b48cc1c",
   "metadata": {},
   "outputs": [],
   "source": [
    "len(s)"
   ]
  },
  {
   "cell_type": "code",
   "execution_count": null,
   "id": "38c87162",
   "metadata": {},
   "outputs": [],
   "source": [
    "s[0][1]"
   ]
  },
  {
   "cell_type": "code",
   "execution_count": null,
   "id": "4eaa2683",
   "metadata": {},
   "outputs": [],
   "source": [
    "s[0][9]"
   ]
  },
  {
   "cell_type": "code",
   "execution_count": null,
   "id": "66598f00",
   "metadata": {},
   "outputs": [],
   "source": [
    "if len(s) == 0:\n",
    "    pass\n",
    "else:\n",
    "    print(\"hello\")"
   ]
  },
  {
   "cell_type": "code",
   "execution_count": null,
   "id": "89e5e7ee",
   "metadata": {},
   "outputs": [],
   "source": []
  }
 ],
 "metadata": {
  "kernelspec": {
   "display_name": "Python 3",
   "language": "python",
   "name": "python3"
  },
  "language_info": {
   "codemirror_mode": {
    "name": "ipython",
    "version": 3
   },
   "file_extension": ".py",
   "mimetype": "text/x-python",
   "name": "python",
   "nbconvert_exporter": "python",
   "pygments_lexer": "ipython3",
   "version": "3.7.6"
  }
 },
 "nbformat": 4,
 "nbformat_minor": 5
}
